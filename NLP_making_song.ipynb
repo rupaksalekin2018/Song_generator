{
  "nbformat": 4,
  "nbformat_minor": 0,
  "metadata": {
    "accelerator": "GPU",
    "colab": {
      "name": "NLP_making_song.ipynb",
      "provenance": []
    },
    "kernelspec": {
      "display_name": "Python 3",
      "name": "python3"
    }
  },
  "cells": [
    {
      "cell_type": "code",
      "metadata": {
        "id": "zX4Kg8DUTKWO"
      },
      "source": [
        "#@title Licensed under the Apache License, Version 2.0 (the \"License\");\n",
        "# you may not use this file except in compliance with the License.\n",
        "# You may obtain a copy of the License at\n",
        "#\n",
        "# https://www.apache.org/licenses/LICENSE-2.0\n",
        "#\n",
        "# Unless required by applicable law or agreed to in writing, software\n",
        "# distributed under the License is distributed on an \"AS IS\" BASIS,\n",
        "# WITHOUT WARRANTIES OR CONDITIONS OF ANY KIND, either express or implied.\n",
        "# See the License for the specific language governing permissions and\n",
        "# limitations under the License."
      ],
      "execution_count": null,
      "outputs": []
    },
    {
      "cell_type": "code",
      "metadata": {
        "colab": {
          "base_uri": "https://localhost:8080/"
        },
        "id": "A0wzyXIpsGL3",
        "outputId": "f679cf30-8737-49cb-9efa-582475eab398"
      },
      "source": [
        "from google.colab import drive\n",
        "drive.mount('/content/drive')"
      ],
      "execution_count": null,
      "outputs": [
        {
          "output_type": "stream",
          "text": [
            "Mounted at /content/drive\n"
          ],
          "name": "stdout"
        }
      ]
    },
    {
      "cell_type": "code",
      "metadata": {
        "id": "BOwsuGQQY9OL"
      },
      "source": [
        "import tensorflow as tf\n",
        "\n",
        "from tensorflow.keras.preprocessing.sequence import pad_sequences\n",
        "from tensorflow.keras.layers import Embedding, LSTM, Dense, Bidirectional\n",
        "from tensorflow.keras.preprocessing.text import Tokenizer\n",
        "from tensorflow.keras.models import Sequential\n",
        "from tensorflow.keras.optimizers import Adam\n",
        "import numpy as np "
      ],
      "execution_count": null,
      "outputs": []
    },
    {
      "cell_type": "code",
      "metadata": {
        "id": "pylt5qZYsWPh"
      },
      "source": [
        "!wget --no-check-certificate \\\n",
        "    https://storage.googleapis.com/laurencemoroney-blog.appspot.com/irish-lyrics-eof.txt \\\n",
        "    -O /tmp/irish-lyrics-eof.txt"
      ],
      "execution_count": null,
      "outputs": []
    },
    {
      "cell_type": "code",
      "metadata": {
        "id": "PRnDnCW-Z7qv",
        "colab": {
          "base_uri": "https://localhost:8080/"
        },
        "outputId": "020f8226-8c79-4b86-947d-cbdf3c8b2e48"
      },
      "source": [
        "tokenizer = Tokenizer()\n",
        "\n",
        "# data = open('/tmp/irish-lyrics-eof.txt').read()\n",
        "data = open(\"/content/songs.txt\").read()\n",
        "\n",
        "corpus = data.lower().split(\"\\n\")\n",
        "\n",
        "tokenizer.fit_on_texts(corpus)\n",
        "\n",
        "total_words = len(tokenizer.word_index) + 1\n",
        "\n",
        "print(tokenizer.word_index)\n",
        "print(total_words)\n"
      ],
      "execution_count": null,
      "outputs": [
        {
          "output_type": "stream",
          "text": [
            "{'i': 1, 'you': 2, 'the': 3, 'and': 4, 'me': 5, 'to': 6, 'it': 7, 'my': 8, 'love': 9, 'in': 10, 'a': 11, 'we': 12, 'now': 13, 'your': 14, 'on': 15, 'oh': 16, 'be': 17, 'if': 18, 'that': 19, 'all': 20, 'like': 21, 'out': 22, 'know': 23, 'is': 24, 'but': 25, 'just': 26, 'so': 27, 'for': 28, 'when': 29, 'will': 30, \"it's\": 31, \"i'm\": 32, 'was': 33, 'with': 34, 'baby': 35, \"don't\": 36, 'never': 37, 'see': 38, 'this': 39, 'up': 40, \"you're\": 41, 'of': 42, 'here': 43, 'got': 44, 'are': 45, 'no': 46, 'good': 47, 'not': 48, 'mind': 49, 'let': 50, 'want': 51, \"i'll\": 52, 'ooh': 53, 'night': 54, 'go': 55, 'one': 56, 'do': 57, 'said': 58, 'way': 59, \"won't\": 60, 'daddy': 61, 'time': 62, 'have': 63, 'can': 64, 'her': 65, 'fire': 66, 'hold': 67, 'friends': 68, 'darling': 69, 'yo': 70, 'give': 71, \"can't\": 72, 'again': 73, 'down': 74, 'get': 75, 'yeah': 76, 'say': 77, 'lead': 78, 'only': 79, 'miss': 80, 'could': 81, 'how': 82, \"'cause\": 83, 'take': 84, 'tonight': 85, 'life': 86, 'mine': 87, 'keep': 88, 'she': 89, \"we're\": 90, 'true': 91, 'from': 92, 'wanna': 93, 'hallelujah': 94, 'hey': 95, 'come': 96, \"i've\": 97, 'ever': 98, 'our': 99, 'words': 100, 'maybe': 101, 'were': 102, 'bad': 103, 'habits': 104, 'day': 105, 'gonna': 106, \"nando's\": 107, 'lose': 108, 'eyes': 109, 'world': 110, 'feel': 111, 'too': 112, 'lost': 113, 'lay': 114, 'been': 115, 'inside': 116, 'right': 117, 'more': 118, 'by': 119, 'waiting': 120, 'every': 121, 'they': 122, 'as': 123, 'back': 124, 'home': 125, 'work': 126, 'chicken': 127, 'bag': 128, 'still': 129, 'should': 130, 'over': 131, 'or': 132, 'things': 133, 'man': 134, 'there': 135, 'made': 136, 'did': 137, 'even': 138, 'them': 139, 'these': 140, 'what': 141, \"that's\": 142, 'some': 143, 'everything': 144, 'then': 145, 'through': 146, 'about': 147, 'cause': 148, 'ohh': 149, 'drunk': 150, 'last': 151, 'into': 152, 'at': 153, 'found': 154, 'old': 155, 'eat': 156, 'till': 157, 'ride': 158, 'fell': 159, 'card': 160, 'alone': 161, 'had': 162, 'around': 163, 'before': 164, 'long': 165, 'wife': 166, 'promise': 167, 'those': 168, 'mountain': 169, 'make': 170, 'perfect': 171, 'another': 172, 'na': 173, \"ain't\": 174, 'cold': 175, 'someone': 176, 'burning': 177, 'free': 178, 'diggity': 179, 'believe': 180, \"there's\": 181, 'off': 182, 'afterglow': 183, \"we'll\": 184, 'new': 185, 'two': 186, \"you'll\": 187, 'candle': 188, 'who': 189, 'getting': 190, 'remember': 191, 'would': 192, \"let's\": 193, 'thing': 194, 'open': 195, 'leave': 196, 'both': 197, 'alright': 198, 'christmas': 199, 'play': 200, 'knows': 201, 'try': 202, \"shouldn't\": 203, 'show': 204, 'need': 205, 'must': 206, 'hit': 207, 'find': 208, 'burn': 209, \"nothin'\": 210, 'times': 211, 'husband': 212, 'woah': 213, 'treat': 214, 'mean': 215, 'singing': 216, 'watched': 217, 'sunset': 218, 'castle': 219, 'hill': 220, 'forget': 221, 'much': 222, 'well': 223, \"i'd\": 224, 'away': 225, 'watch': 226, 'ice': 227, 'bed': 228, 'truth': 229, 'faded': 230, 'he': 231, 'wood': 232, 'break': 233, 'apart': 234, 'behind': 235, 'stay': 236, 'somebody': 237, 'put': 238, 'hope': 239, 'horny': 240, 'pony': 241, \"saddle's\": 242, 'jump': 243, 'loneliness': 244, 'nothing': 245, 'babe': 246, 'light': 247, 'hair': 248, 'hand': 249, 'trying': 250, \"'til\": 251, 'where': 252, 'goes': 253, 'left': 254, 'first': 255, 'dark': 256, 'took': 257, 'burned': 258, 'please': 259, 'knew': 260, 'set': 261, 'than': 262, 'heart': 263, 'friend': 264, 'anything': 265, 'lie': 266, 'enough': 267, 'told': 268, 'us': 269, 'care': 270, 'write': 271, 'why': 272, 'diary': 273, 'fall': 274, 'does': 275, 'ahead': 276, 'drinking': 277, 'lonely': 278, 'sometimes': 279, 'lies': 280, 'sleep': 281, 'god': 282, 'giving': 283, \"she's\": 284, 'cry': 285, 'tripped': 286, 'side': 287, 'souls': 288, 'drive': 289, 'tight': 290, 'wallet': 291, 'girl': 292, 'something': 293, 'tell': 294, 'killing': 295, 'confess': 296, 'sign': 297, 'under': 298, 'control': 299, 'late': 300, 'barely': 301, 'stare': 302, \"lookin'\": 303, 'lights': 304, 'seen': 305, 'wind': 306, 'knowing': 307, 'known': 308, 'legend': 309, 'running': 310, 'straight': 311, 'own': 312, 'am': 313, 'deep': 314, 'until': 315, 'better': 316, 'an': 317, 'once': 318, 'beautiful': 319, 'wear': 320, 'look': 321, 'meant': 322, 'comes': 323, 'hearts': 324, 'regret': 325, 'think': 326, 'heard': 327, 'broken': 328, 'live': 329, 'it’s': 330, 'fly': 331, 'end': 332, 'together': 333, 'flames': 334, 'blood': 335, 'torn': 336, 'i—i': 337, 'glue': 338, 'next': 339, 'whoa': 340, 'bang': 341, 'fucking': 342, 'freestyle': 343, 'black': 344, 'reason': 345, 'pretty': 346, 'stop': 347, 'morning': 348, 'winter': 349, 'silent': 350, 'bright': 351, 'playing': 352, 'wine': 353, 'nights': 354, \"endin'\": 355, 'conversations': 356, 'stranger': 357, \"swearin'\": 358, 'probably': 359, 'use': 360, 'wide': 361, 'space': 362, 'escape': 363, 'happens': 364, 'after': 365, 'start': 366, 'far': 367, 'cook': 368, 'sew': 369, 'outside': 370, 'place': 371, 'stick': 372, 'goddamn': 373, 'goodbye': 374, 'norma': 375, 'jeane': 376, 'grace': 377, 'crawled': 378, 'change': 379, 'name': 380, 'seems': 381, 'lived': 382, 'cling': 383, 'rain': 384, \"would've\": 385, 'liked': 386, 'kid': 387, 'paid': 388, 'years': 389, 'broke': 390, 'rolled': 391, 'wait': 392, 'driving': 393, 'country': 394, 'lanes': 395, 'real': 396, 'kiss': 397, 'works': 398, \"one's\": 399, 'anyone': 400, \"they're\": 401, 'ten': 402, 'has': 403, 'used': 404, 'between': 405, 'trust': 406, 'same': 407, 'tried': 408, 'fingers': 409, 'kitchen': 410, 'body': 411, 'boy': 412, 'surfboard': 413, 'graining': 414, 'speak': 415, 'secret': 416, 'lover': 417, 'fucked': 418, 'many': 419, 'song': 420, 'dreams': 421, 'kissed': 422, 'boys': 423, 'nypd': 424, 'choir': 425, \"'galway\": 426, \"bay'\": 427, 'bells': 428, 'ringing': 429, 'cut': 430, 'forever': 431, 'careful': 432, 'cheek': 433, 'wrong': 434, 'limit': 435, 'fix': 436, 'really': 437, 'lift': 438, 'die': 439, 'act': 440, 'fallen': 441, 'stomach': 442, 'calling': 443, 'father': 444, 'auburn': 445, 'trees': 446, 'hollowing': 447, 'breeze': 448, 'warm': 449, 'drowned': 450, 'memories': 451, 'tires': 452, 'damn': 453, 'feet': 454, 'keeps': 455, 'cover': 456, 'seemed': 457, 'concept': 458, 'any': 459, 'couple': 460, 'based': 461, 'teen': 462, 'sex': 463, 'idiot': 464, \"couldn't\": 465, \"he's\": 466, 'wings': 467, 'yes': 468, 'mum': 469, 'shorty': 470, \"'bout\": 471, 'penguins': 472, 'supposed': 473, \"wasn't\": 474, 'because': 475, 'stranded': 476, 'miracle': 477, 'ourselves': 478, 'snow': 479, 'disappeared': 480, 'tighter': 481, 'darkness': 482, 'softly': 483, 'clears': 484, 'six': 485, 'holding': 486, 'against': 487, 'sun': 488, \"fallin'\": 489, 'honor': 490, 'though': 491, 'yourself': 492, 'while': 493, 'whispered': 494, 'brain': 495, 'played': 496, 'pain': 497, 'marilyn': 498, 'brother': 499, 'his': 500, 'sweet': 501, 'grass': 502, 'younger': 503, 'grown': 504, '90': 505, 'tiny': 506, 'dancer': 507, 'smoking': 508, 'reckon': 509, 'buy': 510, 'cheap': 511, \"we've\": 512, 'clothes': 513, 'kids': 514, 'second': 515, 'people': 516, 'quite': 517, 'three': 518, 'garden': 519, 'bursting': 520, 'cars': 521, 'remind': 522, 'read': 523, 'going': 524, 'safe': 525, 'begin': 526, 'actually': 527, 'finished': 528, 'win': 529, 'heaven': 530, 'thinking': 531, 'cigars': 532, 'feeling': 533, 'flashing': 534, 'woke': 535, 'saying': 536, 'hell': 537, 'shit': 538, 'happen': 539, 'bodies': 540, 'grinding': 541, 'club': 542, 'rubbing': 543, 'sweat': 544, 'swerving': 545, 'big': 546, 'anyway': 547, \"here's\": 548, 'future': 549, 'eve': 550, 'face': 551, 'came': 552, \"they've\": 553, 'lying': 554, 'food': 555, 'single': 556, 'secrets': 557, 'road': 558, 'went': 559, 'might': 560, 'other': 561, 'chances': 562, 'slim': 563, 'eventually': 564, 'stole': 565, 'him': 566, 'lips': 567, 'grow': 568, 'quick': 569, 'cigarette': 570, 'asked': 571, 'listening': 572, 'beauty': 573, 'lord': 574, 'hear': 575, 'saw': 576, 'dad': 577, \"death's\": 578, \"haven't\": 579, 'tear': 580, 'won’t': 581, 'help': 582, 'taken': 583, 'fast': 584, 'high': 585, 'desolation': 586, 'upon': 587, 'sky': 588, 'close': 589, 'flame': 590, 'car': 591, 'honey': 592, 'follow': 593, 'met': 594, 'awake': 595, 'greets': 596, 'without': 597, 'chest': 598, 'head': 599, 'sound': 600, 'chips': 601, 'fat': 602, 'chance': 603, 'thursday': 604, 'tour': 605, 'tongue': 606, 'touching': 607, 'tired': 608, 'certain': 609, 'issue': 610, 'list': 611, 'pound': 612, 'each': 613, 'curves': 614, 'looks': 615, 'pop': 616, 'tags': 617, 'twenty': 618, 'dollars': 619, 'pocket': 620, 'hunting': 621, 'looking': 622, 'freaking': 623, 'awesome': 624, 'felt': 625, 'join': 626, 'jockey': 627, 'team': 628, 'sight': 629, 'breathe': 630, \"wouldn't\": 631, 'planned': 632, 'clocks': 633, 'amazing': 634, 'dances': 635, 'million': 636, 'colours': 637, 'hazel': 638, 'golden': 639, 'red': 640, 'saturday': 641, 'fading': 642, \"sun's\": 643, 'reflected': 644, 'coffee': 645, 'caught': 646, 'gaze': 647, 'weather': 648, \"outside's\": 649, 'changing': 650, 'leaves': 651, 'buried': 652, 'inches': 653, 'white': 654, 'radio': 655, 'iron': 656, 'dimension': 657, 'level': 658, 'losing': 659, 'track': 660, 'except': 661, 'paradise': 662, 'implodes': 663, 'wonderful': 664, 'pure': 665, 'intention': 666, 'ends': 667, 'reach': 668, \"time's\": 669, 'spark': 670, 'started': 671, 'neon': 672, \"'round\": 673, 'fun': 674, 'ran': 675, 'best': 676, 'fooling': 677, 'rosalie': 678, 'meanest': 679, 'woodwork': 680, 'treadmill': 681, 'tough': 682, 'toughest': 683, 'role': 684, 'hollywood': 685, 'created': 686, 'superstar': 687, 'price': 688, 'died': 689, 'press': 690, 'hounded': 691, 'papers': 692, 'nude': 693, 'young': 694, '22nd': 695, 'row': 696, 'sees': 697, 'sexual': 698, 'monroe': 699, 'leg': 700, 'tasted': 701, 'perfume': 702, 'roaring': 703, 'fields': 704, 'fifteen': 705, 'handrolled': 706, 'cigarettes': 707, 'law': 708, 'backfields': 709, 'friday': 710, 'weekend': 711, 'jobs': 712, \"we'd\": 713, 'spirits': 714, 'drink': 715, 'thrown': 716, 'sell': 717, 'coast': 718, 'lives': 719, 'overdosed': 720, 'already': 721, 'raised': 722, 'answers': 723, 'waste': 724, 'chasing': 725, 'heads': 726, 'confused': 727, 'strongest': 728, 'doing': 729, 'weights': 730, 'eating': 731, 'raw': 732, 'eggs': 733, 'cereal': 734, 'miles': 735, 'ban': 736, 'steer': 737, 'intoxicated': 738, 'hands': 739, 'enemy': 740, 'since': 741, 'therapy': 742, 'lines': 743, 'melody': 744, 'different': 745, 'page': 746, 'asleep': 747, 'wake': 748, 'exactly': 749, 'says': 750, 'tin': 751, 'movies': 752, 'recognizing': 753, 'kiera': 754, 'knightley': 755, 'truly': 756, 'excuse': 757, 'spite': 758, 'cream': 759, 'fishes': 760, 'dishes': 761, 'computer': 762, 'games': 763, 'although': 764, 'tea': 765, 'spill': 766, 'instead': 767, 'newcomer': 768, 'stuck': 769, 'devil': 770, 'filthy': 771, \"liquor's\": 772, 'animal': 773, 'cameras': 774, 'grill': 775, \"everything's\": 776, 'complaints': 777, 'fluorescent': 778, 'park': 779, 'lot': 780, '7': 781, '11': 782, 'scared': 783, 'call': 784, 'reverend': 785, 'gangster': 786, 'louis': 787, 'rags': 788, 'mic': 789, 'voice': 790, 'horse': 791, 'fill': 792, 'tub': 793, 'halfway': 794, 'grain': 795, 'swerve': 796, 'woooood': 797, 'shot': 798, 'algebra': 799, 'plus': 800, \"didn't\": 801, 'everybody': 802, 'falls': 803, \"you've\": 804, 'wish': 805, 'called': 806, 'nobody': 807, 'anymore': 808, 'story': 809, 'children': 810, 'tank': 811, 'sang': 812, \"'the\": 813, 'rare': 814, \"dew'\": 815, 'turned': 816, 'dreamed': 817, 'lucky': 818, 'eighteen': 819, \"year's\": 820, 'happy': 821, 'bars': 822, 'rivers': 823, 'gold': 824, 'promised': 825, 'broadway': 826, 'handsome': 827, 'queen': 828, 'york': 829, 'city': 830, 'band': 831, 'howled': 832, 'sinatra': 833, 'swinging': 834, 'drunks': 835, 'corner': 836, 'danced': 837, 'bum': 838, 'punk': 839, 'junk': 840, 'almost': 841, 'dead': 842, 'drip': 843, 'scumbag': 844, 'maggot': 845, 'lousy': 846, 'blagger': 847, 'merry': 848, 'mugger': 849, 'pray': 850, 'kept': 851, 'built': 852, '4': 853, 'm': 854, 'beneath': 855, 'stars': 856, 'candles': 857, 'lit': 858, 'room': 859, 'moon': 860, 'brought': 861, 'little': 862, 'blanket': 863, 'dreamt': 864, 'planet': 865, 'full': 866, 'near': 867, 'resting': 868, 'shoulder': 869, 'adore': 870, 'sweetest': 871, 'yea': 872, 'run': 873, 'dear': 874, 'fear': 875, 'doubted': 876, 'nor': 877, 'wants': 878, \"they'll\": 879, \"eyes'll\": 880, 'else': 881, \"there'd\": 882, 'beds': 883, 'trip': 884, 'round': 885, 'sympathy': 886, 'belonged': 887, 'soft': 888, 'touch': 889, 'bike': 890, 'shed': 891, 'replied': 892, 'thought': 893, 'shows': 894, \"weren't\": 895, 'sickening': 896, 'bear': 897, 'swear': 898, 'summer': 899, 'punch': 900, 'nose': 901, 'deals': 902, 'hardest': 903, 'blows': 904, 'chord': 905, 'david': 906, 'pleased': 907, 'music': 908, 'fourth': 909, 'fifth': 910, 'minor': 911, 'major': 912, 'baffled': 913, 'king': 914, 'composing': 915, 'above': 916, 'learned': 917, 'shoot': 918, 'outdrew': 919, \"who's\": 920, 'vain': 921, 'flag': 922, 'marble': 923, 'arch': 924, 'victory': 925, 'march': 926, 'faith': 927, 'strong': 928, 'needed': 929, 'proof': 930, 'bathing': 931, 'roof': 932, 'moonlight': 933, 'overthrew': 934, 'tied': 935, 'chair': 936, 'throne': 937, 'drew': 938, 'wipe': 939, 'tears': 940, 'alive': 941, 'shake': 942, 'rage': 943, 'dying': 944, 'today': 945, 'that’s': 946, 'fine': 947, 'blamed': 948, 'don’t': 949, 'gate': 950, 'brushed': 951, 'realize': 952, 'turn': 953, 'blind': 954, 'seeing': 955, 'fake': 956, 'ache': 957, 'acting': 958, 'pregnancy': 959, 'climb': 960, 'stand': 961, 'raise': 962, 'glass': 963, 'prepare': 964, 'surely': 965, 'confined': 966, 'mountains': 967, 'halls': 968, \"jumper's\": 969, 'shone': 970, \"daylight's\": 971, 'signs': 972, 'air': 973, 'grip': 974, 'shoes': 975, 'walked': 976, 'bare': 977, 'within': 978, 'meet': 979, 'ya': 980, 'ignore': 981, 'hurt': 982, 'lots': 983, 'oxygen': 984, 'green': 985, 'part': 986, 'shock': 987, 'horror': 988, 'lump': 989, 'sends': 990, 'shuts': 991, 'auto': 992, 'pilot': 993, \"tongue's\": 994, 'gone': 995, 'switch': 996, 'sitting': 997, 'fence': 998, 'aching': 999, 'constrict': 1000, 'suffocating': 1001, 'racing': 1002, 'picture': 1003, 'painting': 1004, \"belly's\": 1005, 'sick': 1006, 'laid': 1007, 'soon': 1008, 'oi': 1009, 'doe': 1010, 'everyone': 1011, 'beat': 1012, 'finger': 1013, \"lickin'\": 1014, 'pass': 1015, 'example': 1016, 'favorite': 1017, 'sing': 1018, 'tastes': 1019, 'breasts': 1020, 'thighs': 1021, 'nice': 1022, 'ask': 1023, 'scar': 1024, 'week': 1025, 'tuesday': 1026, 'drinks': 1027, 'refillable': 1028, 'thirsty': 1029, 'worst': 1030, 'ways': 1031, 'store': 1032, 'whore': 1033, 'everyday': 1034, 'par': 1035, 'ate': 1036, 'starve': 1037, 'slap': 1038, 'febreze': 1039, 'yar': 1040, 'elliot': 1041, 'ed': 1042, 'desire': 1043, 'anytime': 1044, 'gain': 1045, 'pounds': 1046, 'rude': 1047, 'electricity': 1048, 'sockets': 1049, 'guitar': 1050, 'step': 1051, 'hard': 1052, 'star': 1053, 'often': 1054, 'nail': 1055, 'coffin': 1056, 'dignity': 1057, 'rip': 1058, 'afraid': 1059, 'loud': 1060, 'rose': 1061, 'trapped': 1062, 'dirt': 1063, 'mood': 1064, \"rubik's\": 1065, 'cube': 1066, 'sheets': 1067, 'itchy': 1068, 'dig': 1069, 'claws': 1070, 'wont': 1071, 'bleed': 1072, \"'em\": 1073, 'town': 1074, 'strictly': 1075, 'biz': 1076, 'ground': 1077, 'cocaine': 1078, 'forte': 1079, 'player': 1080, 'east': 1081, 'west': 1082, 'pushing': 1083, 'phat': 1084, 'rides': 1085, 'surprise': 1086, 'tricks': 1087, 'stash': 1088, 'stacking': 1089, 'cash': 1090, 'gas': 1091, 'means': 1092, 'average': 1093, 'always': 1094, 'class': 1095, 'style': 1096, 'balance': 1097, 'wild': 1098, 'very': 1099, 'low': 1100, 'key': 1101, 'profile': 1102, 'catching': 1103, 'feelings': 1104, 'spins': 1105, 'verbs': 1106, \"lovin'\": 1107, 'freak': 1108, \"rollin'\": 1109, 'phatness': 1110, 'half': 1111, 'pay': 1112, 'top': 1113, 'notch': 1114, 'trumped': 1115, 'blowing': 1116, 'toilet': 1117, 'cubicle': 1118, 'ripped': 1119, 'dress': 1120, 'tattooed': 1121, 'whole': 1122, 'anywhere': 1123, 'woman': 1124, 'mistakes': 1125, 'human': 1126, 'hardships': 1127, 'disabled': 1128, 'exchanging': 1129, 'names': 1130, 'intertwined': 1131, 'mend': 1132, 'bones': 1133, 'beating': 1134, 'scarred': 1135, 'sticks': 1136, 'stones': 1137, 'feels': 1138, 'serenity': 1139, 'seem': 1140, 'dive': 1141, 'slow': 1142, 'dancing': 1143, 'arms': 1144, 'barefoot': 1145, 'favourite': 1146, 'looked': 1147, 'mess': 1148, 'underneath': 1149, 'breath': 1150, 'bachelor': 1151, 'partner': 1152, 'gotta': 1153, 'compatible': 1154, 'takes': 1155, 'limits': 1156, \"sittin'\": 1157, 'flossing': 1158, 'peeping': 1159, 'steelo': 1160, 'portion': 1161, 'send': 1162, 'shivers': 1163, 'spine': 1164, 'fluids': 1165, \"flowin'\": 1166, 'thigh': 1167, 'freaky': 1168, 'nasty': 1169, 'wooh': 1170}\n",
            "1171\n"
          ],
          "name": "stdout"
        }
      ]
    },
    {
      "cell_type": "code",
      "metadata": {
        "id": "soPGVheskaQP"
      },
      "source": [
        "input_sequences = []\n",
        "for line in corpus:\n",
        "  token_list = tokenizer.texts_to_sequences([line])[0]\n",
        "  for i in range(1, len(token_list)):\n",
        "    n_gram_sequence = token_list[:i+1]\n",
        "    input_sequences.append(n_gram_sequence)\n",
        "\n",
        "# pad sequences \n",
        "max_sequence_len = max([len(x) for x in input_sequences])\n",
        "input_sequences = np.array(pad_sequences(input_sequences, maxlen=max_sequence_len, padding='pre'))\n",
        "\n",
        "# create predictors and label\n",
        "xs, labels = input_sequences[:,:-1],input_sequences[:,-1]\n",
        "\n",
        "ys = tf.keras.utils.to_categorical(labels, num_classes=total_words)\n"
      ],
      "execution_count": null,
      "outputs": []
    },
    {
      "cell_type": "code",
      "metadata": {
        "id": "pJtwVB2NbOAP",
        "colab": {
          "base_uri": "https://localhost:8080/"
        },
        "outputId": "7e6a5a4f-184d-4ff5-f807-95624c6d8179"
      },
      "source": [
        "print(tokenizer.word_index['oh'])\n",
        "print(tokenizer.word_index['baby'])\n",
        "# print(tokenizer.word_index['town'])\n",
        "# print(tokenizer.word_index['of'])\n",
        "# print(tokenizer.word_index['athy'])\n",
        "# print(tokenizer.word_index['one'])\n",
        "# print(tokenizer.word_index['jeremy'])\n",
        "# print(tokenizer.word_index['lanigan'])"
      ],
      "execution_count": null,
      "outputs": [
        {
          "output_type": "stream",
          "text": [
            "16\n",
            "35\n"
          ],
          "name": "stdout"
        }
      ]
    },
    {
      "cell_type": "code",
      "metadata": {
        "id": "49Cv68JOakwv",
        "colab": {
          "base_uri": "https://localhost:8080/"
        },
        "outputId": "1beff3a2-999b-4b44-adf7-75c9cbded37b"
      },
      "source": [
        "print(xs[6])"
      ],
      "execution_count": null,
      "outputs": [
        {
          "output_type": "stream",
          "text": [
            "[  0   0   0   0   0   0   0   0   0   0   0   0  82  33   1 473   6]\n"
          ],
          "name": "stdout"
        }
      ]
    },
    {
      "cell_type": "code",
      "metadata": {
        "id": "iY-jwvfgbEF8",
        "colab": {
          "base_uri": "https://localhost:8080/"
        },
        "outputId": "d05562e8-9ae1-4d32-e9bb-3fcdbf413c32"
      },
      "source": [
        "print(ys[6])"
      ],
      "execution_count": null,
      "outputs": [
        {
          "output_type": "stream",
          "text": [
            "[0. 0. 0. ... 0. 0. 0.]\n"
          ],
          "name": "stdout"
        }
      ]
    },
    {
      "cell_type": "code",
      "metadata": {
        "id": "wtzlUMYadhKt",
        "colab": {
          "base_uri": "https://localhost:8080/"
        },
        "outputId": "2fd65dff-1d9e-4525-f129-ff4d11109a98"
      },
      "source": [
        "print(xs[5])\n",
        "print(ys[5])"
      ],
      "execution_count": null,
      "outputs": [
        {
          "output_type": "stream",
          "text": [
            "[  0   0   0   0   0   0   0   0   0   0   0   0   0  82  33   1 473]\n",
            "[0. 0. 0. ... 0. 0. 0.]\n"
          ],
          "name": "stdout"
        }
      ]
    },
    {
      "cell_type": "code",
      "metadata": {
        "id": "H4myRpB1c4Gg",
        "colab": {
          "base_uri": "https://localhost:8080/"
        },
        "outputId": "f292bb86-187d-4ce3-d883-304bee56d3fc"
      },
      "source": [
        "print(tokenizer.word_index)"
      ],
      "execution_count": null,
      "outputs": [
        {
          "output_type": "stream",
          "text": [
            "{'i': 1, 'you': 2, 'the': 3, 'and': 4, 'me': 5, 'to': 6, 'it': 7, 'my': 8, 'love': 9, 'in': 10, 'a': 11, 'we': 12, 'now': 13, 'your': 14, 'on': 15, 'oh': 16, 'be': 17, 'if': 18, 'that': 19, 'all': 20, 'like': 21, 'out': 22, 'know': 23, 'is': 24, 'but': 25, 'just': 26, 'so': 27, 'for': 28, 'when': 29, 'will': 30, \"it's\": 31, \"i'm\": 32, 'was': 33, 'with': 34, 'baby': 35, \"don't\": 36, 'never': 37, 'see': 38, 'this': 39, 'up': 40, \"you're\": 41, 'of': 42, 'here': 43, 'got': 44, 'are': 45, 'no': 46, 'good': 47, 'not': 48, 'mind': 49, 'let': 50, 'want': 51, \"i'll\": 52, 'ooh': 53, 'night': 54, 'go': 55, 'one': 56, 'do': 57, 'said': 58, 'way': 59, \"won't\": 60, 'daddy': 61, 'time': 62, 'have': 63, 'can': 64, 'her': 65, 'fire': 66, 'hold': 67, 'friends': 68, 'darling': 69, 'yo': 70, 'give': 71, \"can't\": 72, 'again': 73, 'down': 74, 'get': 75, 'yeah': 76, 'say': 77, 'lead': 78, 'only': 79, 'miss': 80, 'could': 81, 'how': 82, \"'cause\": 83, 'take': 84, 'tonight': 85, 'life': 86, 'mine': 87, 'keep': 88, 'she': 89, \"we're\": 90, 'true': 91, 'from': 92, 'wanna': 93, 'hallelujah': 94, 'hey': 95, 'come': 96, \"i've\": 97, 'ever': 98, 'our': 99, 'words': 100, 'maybe': 101, 'were': 102, 'bad': 103, 'habits': 104, 'day': 105, 'gonna': 106, \"nando's\": 107, 'lose': 108, 'eyes': 109, 'world': 110, 'feel': 111, 'too': 112, 'lost': 113, 'lay': 114, 'been': 115, 'inside': 116, 'right': 117, 'more': 118, 'by': 119, 'waiting': 120, 'every': 121, 'they': 122, 'as': 123, 'back': 124, 'home': 125, 'work': 126, 'chicken': 127, 'bag': 128, 'still': 129, 'should': 130, 'over': 131, 'or': 132, 'things': 133, 'man': 134, 'there': 135, 'made': 136, 'did': 137, 'even': 138, 'them': 139, 'these': 140, 'what': 141, \"that's\": 142, 'some': 143, 'everything': 144, 'then': 145, 'through': 146, 'about': 147, 'cause': 148, 'ohh': 149, 'drunk': 150, 'last': 151, 'into': 152, 'at': 153, 'found': 154, 'old': 155, 'eat': 156, 'till': 157, 'ride': 158, 'fell': 159, 'card': 160, 'alone': 161, 'had': 162, 'around': 163, 'before': 164, 'long': 165, 'wife': 166, 'promise': 167, 'those': 168, 'mountain': 169, 'make': 170, 'perfect': 171, 'another': 172, 'na': 173, \"ain't\": 174, 'cold': 175, 'someone': 176, 'burning': 177, 'free': 178, 'diggity': 179, 'believe': 180, \"there's\": 181, 'off': 182, 'afterglow': 183, \"we'll\": 184, 'new': 185, 'two': 186, \"you'll\": 187, 'candle': 188, 'who': 189, 'getting': 190, 'remember': 191, 'would': 192, \"let's\": 193, 'thing': 194, 'open': 195, 'leave': 196, 'both': 197, 'alright': 198, 'christmas': 199, 'play': 200, 'knows': 201, 'try': 202, \"shouldn't\": 203, 'show': 204, 'need': 205, 'must': 206, 'hit': 207, 'find': 208, 'burn': 209, \"nothin'\": 210, 'times': 211, 'husband': 212, 'woah': 213, 'treat': 214, 'mean': 215, 'singing': 216, 'watched': 217, 'sunset': 218, 'castle': 219, 'hill': 220, 'forget': 221, 'much': 222, 'well': 223, \"i'd\": 224, 'away': 225, 'watch': 226, 'ice': 227, 'bed': 228, 'truth': 229, 'faded': 230, 'he': 231, 'wood': 232, 'break': 233, 'apart': 234, 'behind': 235, 'stay': 236, 'somebody': 237, 'put': 238, 'hope': 239, 'horny': 240, 'pony': 241, \"saddle's\": 242, 'jump': 243, 'loneliness': 244, 'nothing': 245, 'babe': 246, 'light': 247, 'hair': 248, 'hand': 249, 'trying': 250, \"'til\": 251, 'where': 252, 'goes': 253, 'left': 254, 'first': 255, 'dark': 256, 'took': 257, 'burned': 258, 'please': 259, 'knew': 260, 'set': 261, 'than': 262, 'heart': 263, 'friend': 264, 'anything': 265, 'lie': 266, 'enough': 267, 'told': 268, 'us': 269, 'care': 270, 'write': 271, 'why': 272, 'diary': 273, 'fall': 274, 'does': 275, 'ahead': 276, 'drinking': 277, 'lonely': 278, 'sometimes': 279, 'lies': 280, 'sleep': 281, 'god': 282, 'giving': 283, \"she's\": 284, 'cry': 285, 'tripped': 286, 'side': 287, 'souls': 288, 'drive': 289, 'tight': 290, 'wallet': 291, 'girl': 292, 'something': 293, 'tell': 294, 'killing': 295, 'confess': 296, 'sign': 297, 'under': 298, 'control': 299, 'late': 300, 'barely': 301, 'stare': 302, \"lookin'\": 303, 'lights': 304, 'seen': 305, 'wind': 306, 'knowing': 307, 'known': 308, 'legend': 309, 'running': 310, 'straight': 311, 'own': 312, 'am': 313, 'deep': 314, 'until': 315, 'better': 316, 'an': 317, 'once': 318, 'beautiful': 319, 'wear': 320, 'look': 321, 'meant': 322, 'comes': 323, 'hearts': 324, 'regret': 325, 'think': 326, 'heard': 327, 'broken': 328, 'live': 329, 'it’s': 330, 'fly': 331, 'end': 332, 'together': 333, 'flames': 334, 'blood': 335, 'torn': 336, 'i—i': 337, 'glue': 338, 'next': 339, 'whoa': 340, 'bang': 341, 'fucking': 342, 'freestyle': 343, 'black': 344, 'reason': 345, 'pretty': 346, 'stop': 347, 'morning': 348, 'winter': 349, 'silent': 350, 'bright': 351, 'playing': 352, 'wine': 353, 'nights': 354, \"endin'\": 355, 'conversations': 356, 'stranger': 357, \"swearin'\": 358, 'probably': 359, 'use': 360, 'wide': 361, 'space': 362, 'escape': 363, 'happens': 364, 'after': 365, 'start': 366, 'far': 367, 'cook': 368, 'sew': 369, 'outside': 370, 'place': 371, 'stick': 372, 'goddamn': 373, 'goodbye': 374, 'norma': 375, 'jeane': 376, 'grace': 377, 'crawled': 378, 'change': 379, 'name': 380, 'seems': 381, 'lived': 382, 'cling': 383, 'rain': 384, \"would've\": 385, 'liked': 386, 'kid': 387, 'paid': 388, 'years': 389, 'broke': 390, 'rolled': 391, 'wait': 392, 'driving': 393, 'country': 394, 'lanes': 395, 'real': 396, 'kiss': 397, 'works': 398, \"one's\": 399, 'anyone': 400, \"they're\": 401, 'ten': 402, 'has': 403, 'used': 404, 'between': 405, 'trust': 406, 'same': 407, 'tried': 408, 'fingers': 409, 'kitchen': 410, 'body': 411, 'boy': 412, 'surfboard': 413, 'graining': 414, 'speak': 415, 'secret': 416, 'lover': 417, 'fucked': 418, 'many': 419, 'song': 420, 'dreams': 421, 'kissed': 422, 'boys': 423, 'nypd': 424, 'choir': 425, \"'galway\": 426, \"bay'\": 427, 'bells': 428, 'ringing': 429, 'cut': 430, 'forever': 431, 'careful': 432, 'cheek': 433, 'wrong': 434, 'limit': 435, 'fix': 436, 'really': 437, 'lift': 438, 'die': 439, 'act': 440, 'fallen': 441, 'stomach': 442, 'calling': 443, 'father': 444, 'auburn': 445, 'trees': 446, 'hollowing': 447, 'breeze': 448, 'warm': 449, 'drowned': 450, 'memories': 451, 'tires': 452, 'damn': 453, 'feet': 454, 'keeps': 455, 'cover': 456, 'seemed': 457, 'concept': 458, 'any': 459, 'couple': 460, 'based': 461, 'teen': 462, 'sex': 463, 'idiot': 464, \"couldn't\": 465, \"he's\": 466, 'wings': 467, 'yes': 468, 'mum': 469, 'shorty': 470, \"'bout\": 471, 'penguins': 472, 'supposed': 473, \"wasn't\": 474, 'because': 475, 'stranded': 476, 'miracle': 477, 'ourselves': 478, 'snow': 479, 'disappeared': 480, 'tighter': 481, 'darkness': 482, 'softly': 483, 'clears': 484, 'six': 485, 'holding': 486, 'against': 487, 'sun': 488, \"fallin'\": 489, 'honor': 490, 'though': 491, 'yourself': 492, 'while': 493, 'whispered': 494, 'brain': 495, 'played': 496, 'pain': 497, 'marilyn': 498, 'brother': 499, 'his': 500, 'sweet': 501, 'grass': 502, 'younger': 503, 'grown': 504, '90': 505, 'tiny': 506, 'dancer': 507, 'smoking': 508, 'reckon': 509, 'buy': 510, 'cheap': 511, \"we've\": 512, 'clothes': 513, 'kids': 514, 'second': 515, 'people': 516, 'quite': 517, 'three': 518, 'garden': 519, 'bursting': 520, 'cars': 521, 'remind': 522, 'read': 523, 'going': 524, 'safe': 525, 'begin': 526, 'actually': 527, 'finished': 528, 'win': 529, 'heaven': 530, 'thinking': 531, 'cigars': 532, 'feeling': 533, 'flashing': 534, 'woke': 535, 'saying': 536, 'hell': 537, 'shit': 538, 'happen': 539, 'bodies': 540, 'grinding': 541, 'club': 542, 'rubbing': 543, 'sweat': 544, 'swerving': 545, 'big': 546, 'anyway': 547, \"here's\": 548, 'future': 549, 'eve': 550, 'face': 551, 'came': 552, \"they've\": 553, 'lying': 554, 'food': 555, 'single': 556, 'secrets': 557, 'road': 558, 'went': 559, 'might': 560, 'other': 561, 'chances': 562, 'slim': 563, 'eventually': 564, 'stole': 565, 'him': 566, 'lips': 567, 'grow': 568, 'quick': 569, 'cigarette': 570, 'asked': 571, 'listening': 572, 'beauty': 573, 'lord': 574, 'hear': 575, 'saw': 576, 'dad': 577, \"death's\": 578, \"haven't\": 579, 'tear': 580, 'won’t': 581, 'help': 582, 'taken': 583, 'fast': 584, 'high': 585, 'desolation': 586, 'upon': 587, 'sky': 588, 'close': 589, 'flame': 590, 'car': 591, 'honey': 592, 'follow': 593, 'met': 594, 'awake': 595, 'greets': 596, 'without': 597, 'chest': 598, 'head': 599, 'sound': 600, 'chips': 601, 'fat': 602, 'chance': 603, 'thursday': 604, 'tour': 605, 'tongue': 606, 'touching': 607, 'tired': 608, 'certain': 609, 'issue': 610, 'list': 611, 'pound': 612, 'each': 613, 'curves': 614, 'looks': 615, 'pop': 616, 'tags': 617, 'twenty': 618, 'dollars': 619, 'pocket': 620, 'hunting': 621, 'looking': 622, 'freaking': 623, 'awesome': 624, 'felt': 625, 'join': 626, 'jockey': 627, 'team': 628, 'sight': 629, 'breathe': 630, \"wouldn't\": 631, 'planned': 632, 'clocks': 633, 'amazing': 634, 'dances': 635, 'million': 636, 'colours': 637, 'hazel': 638, 'golden': 639, 'red': 640, 'saturday': 641, 'fading': 642, \"sun's\": 643, 'reflected': 644, 'coffee': 645, 'caught': 646, 'gaze': 647, 'weather': 648, \"outside's\": 649, 'changing': 650, 'leaves': 651, 'buried': 652, 'inches': 653, 'white': 654, 'radio': 655, 'iron': 656, 'dimension': 657, 'level': 658, 'losing': 659, 'track': 660, 'except': 661, 'paradise': 662, 'implodes': 663, 'wonderful': 664, 'pure': 665, 'intention': 666, 'ends': 667, 'reach': 668, \"time's\": 669, 'spark': 670, 'started': 671, 'neon': 672, \"'round\": 673, 'fun': 674, 'ran': 675, 'best': 676, 'fooling': 677, 'rosalie': 678, 'meanest': 679, 'woodwork': 680, 'treadmill': 681, 'tough': 682, 'toughest': 683, 'role': 684, 'hollywood': 685, 'created': 686, 'superstar': 687, 'price': 688, 'died': 689, 'press': 690, 'hounded': 691, 'papers': 692, 'nude': 693, 'young': 694, '22nd': 695, 'row': 696, 'sees': 697, 'sexual': 698, 'monroe': 699, 'leg': 700, 'tasted': 701, 'perfume': 702, 'roaring': 703, 'fields': 704, 'fifteen': 705, 'handrolled': 706, 'cigarettes': 707, 'law': 708, 'backfields': 709, 'friday': 710, 'weekend': 711, 'jobs': 712, \"we'd\": 713, 'spirits': 714, 'drink': 715, 'thrown': 716, 'sell': 717, 'coast': 718, 'lives': 719, 'overdosed': 720, 'already': 721, 'raised': 722, 'answers': 723, 'waste': 724, 'chasing': 725, 'heads': 726, 'confused': 727, 'strongest': 728, 'doing': 729, 'weights': 730, 'eating': 731, 'raw': 732, 'eggs': 733, 'cereal': 734, 'miles': 735, 'ban': 736, 'steer': 737, 'intoxicated': 738, 'hands': 739, 'enemy': 740, 'since': 741, 'therapy': 742, 'lines': 743, 'melody': 744, 'different': 745, 'page': 746, 'asleep': 747, 'wake': 748, 'exactly': 749, 'says': 750, 'tin': 751, 'movies': 752, 'recognizing': 753, 'kiera': 754, 'knightley': 755, 'truly': 756, 'excuse': 757, 'spite': 758, 'cream': 759, 'fishes': 760, 'dishes': 761, 'computer': 762, 'games': 763, 'although': 764, 'tea': 765, 'spill': 766, 'instead': 767, 'newcomer': 768, 'stuck': 769, 'devil': 770, 'filthy': 771, \"liquor's\": 772, 'animal': 773, 'cameras': 774, 'grill': 775, \"everything's\": 776, 'complaints': 777, 'fluorescent': 778, 'park': 779, 'lot': 780, '7': 781, '11': 782, 'scared': 783, 'call': 784, 'reverend': 785, 'gangster': 786, 'louis': 787, 'rags': 788, 'mic': 789, 'voice': 790, 'horse': 791, 'fill': 792, 'tub': 793, 'halfway': 794, 'grain': 795, 'swerve': 796, 'woooood': 797, 'shot': 798, 'algebra': 799, 'plus': 800, \"didn't\": 801, 'everybody': 802, 'falls': 803, \"you've\": 804, 'wish': 805, 'called': 806, 'nobody': 807, 'anymore': 808, 'story': 809, 'children': 810, 'tank': 811, 'sang': 812, \"'the\": 813, 'rare': 814, \"dew'\": 815, 'turned': 816, 'dreamed': 817, 'lucky': 818, 'eighteen': 819, \"year's\": 820, 'happy': 821, 'bars': 822, 'rivers': 823, 'gold': 824, 'promised': 825, 'broadway': 826, 'handsome': 827, 'queen': 828, 'york': 829, 'city': 830, 'band': 831, 'howled': 832, 'sinatra': 833, 'swinging': 834, 'drunks': 835, 'corner': 836, 'danced': 837, 'bum': 838, 'punk': 839, 'junk': 840, 'almost': 841, 'dead': 842, 'drip': 843, 'scumbag': 844, 'maggot': 845, 'lousy': 846, 'blagger': 847, 'merry': 848, 'mugger': 849, 'pray': 850, 'kept': 851, 'built': 852, '4': 853, 'm': 854, 'beneath': 855, 'stars': 856, 'candles': 857, 'lit': 858, 'room': 859, 'moon': 860, 'brought': 861, 'little': 862, 'blanket': 863, 'dreamt': 864, 'planet': 865, 'full': 866, 'near': 867, 'resting': 868, 'shoulder': 869, 'adore': 870, 'sweetest': 871, 'yea': 872, 'run': 873, 'dear': 874, 'fear': 875, 'doubted': 876, 'nor': 877, 'wants': 878, \"they'll\": 879, \"eyes'll\": 880, 'else': 881, \"there'd\": 882, 'beds': 883, 'trip': 884, 'round': 885, 'sympathy': 886, 'belonged': 887, 'soft': 888, 'touch': 889, 'bike': 890, 'shed': 891, 'replied': 892, 'thought': 893, 'shows': 894, \"weren't\": 895, 'sickening': 896, 'bear': 897, 'swear': 898, 'summer': 899, 'punch': 900, 'nose': 901, 'deals': 902, 'hardest': 903, 'blows': 904, 'chord': 905, 'david': 906, 'pleased': 907, 'music': 908, 'fourth': 909, 'fifth': 910, 'minor': 911, 'major': 912, 'baffled': 913, 'king': 914, 'composing': 915, 'above': 916, 'learned': 917, 'shoot': 918, 'outdrew': 919, \"who's\": 920, 'vain': 921, 'flag': 922, 'marble': 923, 'arch': 924, 'victory': 925, 'march': 926, 'faith': 927, 'strong': 928, 'needed': 929, 'proof': 930, 'bathing': 931, 'roof': 932, 'moonlight': 933, 'overthrew': 934, 'tied': 935, 'chair': 936, 'throne': 937, 'drew': 938, 'wipe': 939, 'tears': 940, 'alive': 941, 'shake': 942, 'rage': 943, 'dying': 944, 'today': 945, 'that’s': 946, 'fine': 947, 'blamed': 948, 'don’t': 949, 'gate': 950, 'brushed': 951, 'realize': 952, 'turn': 953, 'blind': 954, 'seeing': 955, 'fake': 956, 'ache': 957, 'acting': 958, 'pregnancy': 959, 'climb': 960, 'stand': 961, 'raise': 962, 'glass': 963, 'prepare': 964, 'surely': 965, 'confined': 966, 'mountains': 967, 'halls': 968, \"jumper's\": 969, 'shone': 970, \"daylight's\": 971, 'signs': 972, 'air': 973, 'grip': 974, 'shoes': 975, 'walked': 976, 'bare': 977, 'within': 978, 'meet': 979, 'ya': 980, 'ignore': 981, 'hurt': 982, 'lots': 983, 'oxygen': 984, 'green': 985, 'part': 986, 'shock': 987, 'horror': 988, 'lump': 989, 'sends': 990, 'shuts': 991, 'auto': 992, 'pilot': 993, \"tongue's\": 994, 'gone': 995, 'switch': 996, 'sitting': 997, 'fence': 998, 'aching': 999, 'constrict': 1000, 'suffocating': 1001, 'racing': 1002, 'picture': 1003, 'painting': 1004, \"belly's\": 1005, 'sick': 1006, 'laid': 1007, 'soon': 1008, 'oi': 1009, 'doe': 1010, 'everyone': 1011, 'beat': 1012, 'finger': 1013, \"lickin'\": 1014, 'pass': 1015, 'example': 1016, 'favorite': 1017, 'sing': 1018, 'tastes': 1019, 'breasts': 1020, 'thighs': 1021, 'nice': 1022, 'ask': 1023, 'scar': 1024, 'week': 1025, 'tuesday': 1026, 'drinks': 1027, 'refillable': 1028, 'thirsty': 1029, 'worst': 1030, 'ways': 1031, 'store': 1032, 'whore': 1033, 'everyday': 1034, 'par': 1035, 'ate': 1036, 'starve': 1037, 'slap': 1038, 'febreze': 1039, 'yar': 1040, 'elliot': 1041, 'ed': 1042, 'desire': 1043, 'anytime': 1044, 'gain': 1045, 'pounds': 1046, 'rude': 1047, 'electricity': 1048, 'sockets': 1049, 'guitar': 1050, 'step': 1051, 'hard': 1052, 'star': 1053, 'often': 1054, 'nail': 1055, 'coffin': 1056, 'dignity': 1057, 'rip': 1058, 'afraid': 1059, 'loud': 1060, 'rose': 1061, 'trapped': 1062, 'dirt': 1063, 'mood': 1064, \"rubik's\": 1065, 'cube': 1066, 'sheets': 1067, 'itchy': 1068, 'dig': 1069, 'claws': 1070, 'wont': 1071, 'bleed': 1072, \"'em\": 1073, 'town': 1074, 'strictly': 1075, 'biz': 1076, 'ground': 1077, 'cocaine': 1078, 'forte': 1079, 'player': 1080, 'east': 1081, 'west': 1082, 'pushing': 1083, 'phat': 1084, 'rides': 1085, 'surprise': 1086, 'tricks': 1087, 'stash': 1088, 'stacking': 1089, 'cash': 1090, 'gas': 1091, 'means': 1092, 'average': 1093, 'always': 1094, 'class': 1095, 'style': 1096, 'balance': 1097, 'wild': 1098, 'very': 1099, 'low': 1100, 'key': 1101, 'profile': 1102, 'catching': 1103, 'feelings': 1104, 'spins': 1105, 'verbs': 1106, \"lovin'\": 1107, 'freak': 1108, \"rollin'\": 1109, 'phatness': 1110, 'half': 1111, 'pay': 1112, 'top': 1113, 'notch': 1114, 'trumped': 1115, 'blowing': 1116, 'toilet': 1117, 'cubicle': 1118, 'ripped': 1119, 'dress': 1120, 'tattooed': 1121, 'whole': 1122, 'anywhere': 1123, 'woman': 1124, 'mistakes': 1125, 'human': 1126, 'hardships': 1127, 'disabled': 1128, 'exchanging': 1129, 'names': 1130, 'intertwined': 1131, 'mend': 1132, 'bones': 1133, 'beating': 1134, 'scarred': 1135, 'sticks': 1136, 'stones': 1137, 'feels': 1138, 'serenity': 1139, 'seem': 1140, 'dive': 1141, 'slow': 1142, 'dancing': 1143, 'arms': 1144, 'barefoot': 1145, 'favourite': 1146, 'looked': 1147, 'mess': 1148, 'underneath': 1149, 'breath': 1150, 'bachelor': 1151, 'partner': 1152, 'gotta': 1153, 'compatible': 1154, 'takes': 1155, 'limits': 1156, \"sittin'\": 1157, 'flossing': 1158, 'peeping': 1159, 'steelo': 1160, 'portion': 1161, 'send': 1162, 'shivers': 1163, 'spine': 1164, 'fluids': 1165, \"flowin'\": 1166, 'thigh': 1167, 'freaky': 1168, 'nasty': 1169, 'wooh': 1170}\n"
          ],
          "name": "stdout"
        }
      ]
    },
    {
      "cell_type": "code",
      "metadata": {
        "id": "w9vH8Y59ajYL",
        "colab": {
          "base_uri": "https://localhost:8080/"
        },
        "outputId": "df7e0664-c51f-4ad7-a0ea-6abe9c3b163e"
      },
      "source": [
        "model = Sequential()\n",
        "model.add(Embedding(total_words, 100, input_length=max_sequence_len-1))\n",
        "model.add(Bidirectional(LSTM(150)))\n",
        "model.add(Dense(total_words, activation='softmax'))\n",
        "adam = Adam(lr=0.01)\n",
        "model.compile(loss='categorical_crossentropy', optimizer=adam, metrics=['accuracy'])\n",
        "#earlystop = EarlyStopping(monitor='val_loss', min_delta=0, patience=5, verbose=0, mode='auto')\n",
        "history = model.fit(xs, ys, epochs=100, verbose=1)\n",
        "#print model.summary()\n",
        "print(model)\n"
      ],
      "execution_count": null,
      "outputs": [
        {
          "output_type": "stream",
          "text": [
            "/usr/local/lib/python3.7/dist-packages/tensorflow/python/keras/optimizer_v2/optimizer_v2.py:375: UserWarning: The `lr` argument is deprecated, use `learning_rate` instead.\n",
            "  \"The `lr` argument is deprecated, use `learning_rate` instead.\")\n"
          ],
          "name": "stderr"
        },
        {
          "output_type": "stream",
          "text": [
            "Epoch 1/100\n",
            "211/211 [==============================] - 12s 20ms/step - loss: 5.8043 - accuracy: 0.0604\n",
            "Epoch 2/100\n",
            "211/211 [==============================] - 4s 19ms/step - loss: 4.2270 - accuracy: 0.2415\n",
            "Epoch 3/100\n",
            "211/211 [==============================] - 4s 18ms/step - loss: 2.8725 - accuracy: 0.4125\n",
            "Epoch 4/100\n",
            "211/211 [==============================] - 4s 18ms/step - loss: 1.9630 - accuracy: 0.5465\n",
            "Epoch 5/100\n",
            "211/211 [==============================] - 4s 19ms/step - loss: 1.4343 - accuracy: 0.6583\n",
            "Epoch 6/100\n",
            "211/211 [==============================] - 4s 19ms/step - loss: 1.0482 - accuracy: 0.7459\n",
            "Epoch 7/100\n",
            "211/211 [==============================] - 4s 19ms/step - loss: 0.8389 - accuracy: 0.7976\n",
            "Epoch 8/100\n",
            "211/211 [==============================] - 4s 18ms/step - loss: 0.7265 - accuracy: 0.8153\n",
            "Epoch 9/100\n",
            "211/211 [==============================] - 4s 19ms/step - loss: 0.6654 - accuracy: 0.8277\n",
            "Epoch 10/100\n",
            "211/211 [==============================] - 4s 19ms/step - loss: 0.6267 - accuracy: 0.8341\n",
            "Epoch 11/100\n",
            "211/211 [==============================] - 4s 19ms/step - loss: 0.6126 - accuracy: 0.8335\n",
            "Epoch 12/100\n",
            "211/211 [==============================] - 4s 19ms/step - loss: 0.5857 - accuracy: 0.8396\n",
            "Epoch 13/100\n",
            "211/211 [==============================] - 4s 19ms/step - loss: 0.5835 - accuracy: 0.8364\n",
            "Epoch 14/100\n",
            "211/211 [==============================] - 4s 19ms/step - loss: 0.5691 - accuracy: 0.8388\n",
            "Epoch 15/100\n",
            "211/211 [==============================] - 4s 19ms/step - loss: 0.5797 - accuracy: 0.8367\n",
            "Epoch 16/100\n",
            "211/211 [==============================] - 4s 18ms/step - loss: 0.5733 - accuracy: 0.8329\n",
            "Epoch 17/100\n",
            "211/211 [==============================] - 4s 18ms/step - loss: 0.5723 - accuracy: 0.8348\n",
            "Epoch 18/100\n",
            "211/211 [==============================] - 4s 18ms/step - loss: 1.4780 - accuracy: 0.6349\n",
            "Epoch 19/100\n",
            "211/211 [==============================] - 4s 18ms/step - loss: 2.4507 - accuracy: 0.4651\n",
            "Epoch 20/100\n",
            "211/211 [==============================] - 4s 18ms/step - loss: 1.4942 - accuracy: 0.6266\n",
            "Epoch 21/100\n",
            "211/211 [==============================] - 4s 19ms/step - loss: 0.9975 - accuracy: 0.7365\n",
            "Epoch 22/100\n",
            "211/211 [==============================] - 4s 19ms/step - loss: 0.7499 - accuracy: 0.8030\n",
            "Epoch 23/100\n",
            "211/211 [==============================] - 4s 18ms/step - loss: 0.6327 - accuracy: 0.8305\n",
            "Epoch 24/100\n",
            "211/211 [==============================] - 4s 19ms/step - loss: 0.5960 - accuracy: 0.8329\n",
            "Epoch 25/100\n",
            "211/211 [==============================] - 4s 19ms/step - loss: 0.5697 - accuracy: 0.8372\n",
            "Epoch 26/100\n",
            "211/211 [==============================] - 4s 19ms/step - loss: 0.5546 - accuracy: 0.8384\n",
            "Epoch 27/100\n",
            "211/211 [==============================] - 4s 18ms/step - loss: 0.5485 - accuracy: 0.8375\n",
            "Epoch 28/100\n",
            "211/211 [==============================] - 4s 19ms/step - loss: 0.5489 - accuracy: 0.8370\n",
            "Epoch 29/100\n",
            "211/211 [==============================] - 4s 19ms/step - loss: 0.5396 - accuracy: 0.8385\n",
            "Epoch 30/100\n",
            "211/211 [==============================] - 4s 19ms/step - loss: 0.5374 - accuracy: 0.8394\n",
            "Epoch 31/100\n",
            "211/211 [==============================] - 4s 19ms/step - loss: 0.5372 - accuracy: 0.8394\n",
            "Epoch 32/100\n",
            "211/211 [==============================] - 4s 19ms/step - loss: 0.5423 - accuracy: 0.8363\n",
            "Epoch 33/100\n",
            "211/211 [==============================] - 4s 19ms/step - loss: 0.5354 - accuracy: 0.8430\n",
            "Epoch 34/100\n",
            "211/211 [==============================] - 4s 19ms/step - loss: 0.5384 - accuracy: 0.8401\n",
            "Epoch 35/100\n",
            "211/211 [==============================] - 4s 18ms/step - loss: 0.5372 - accuracy: 0.8409\n",
            "Epoch 36/100\n",
            "211/211 [==============================] - 4s 18ms/step - loss: 0.5589 - accuracy: 0.8394\n",
            "Epoch 37/100\n",
            "211/211 [==============================] - 4s 19ms/step - loss: 1.2663 - accuracy: 0.6825\n",
            "Epoch 38/100\n",
            "211/211 [==============================] - 4s 19ms/step - loss: 2.4354 - accuracy: 0.4868\n",
            "Epoch 39/100\n",
            "211/211 [==============================] - 4s 19ms/step - loss: 1.5479 - accuracy: 0.6186\n",
            "Epoch 40/100\n",
            "211/211 [==============================] - 4s 20ms/step - loss: 1.0033 - accuracy: 0.7362\n",
            "Epoch 41/100\n",
            "211/211 [==============================] - 4s 19ms/step - loss: 0.7511 - accuracy: 0.7979\n",
            "Epoch 42/100\n",
            "211/211 [==============================] - 4s 19ms/step - loss: 0.6391 - accuracy: 0.8244\n",
            "Epoch 43/100\n",
            "211/211 [==============================] - 4s 19ms/step - loss: 0.5828 - accuracy: 0.8346\n",
            "Epoch 44/100\n",
            "211/211 [==============================] - 4s 19ms/step - loss: 0.5633 - accuracy: 0.8358\n",
            "Epoch 45/100\n",
            "211/211 [==============================] - 4s 19ms/step - loss: 0.5528 - accuracy: 0.8370\n",
            "Epoch 46/100\n",
            "211/211 [==============================] - 4s 19ms/step - loss: 0.5443 - accuracy: 0.8387\n",
            "Epoch 47/100\n",
            "211/211 [==============================] - 4s 19ms/step - loss: 0.5417 - accuracy: 0.8382\n",
            "Epoch 48/100\n",
            "211/211 [==============================] - 4s 20ms/step - loss: 0.5429 - accuracy: 0.8355\n",
            "Epoch 49/100\n",
            "211/211 [==============================] - 4s 19ms/step - loss: 0.5443 - accuracy: 0.8358\n",
            "Epoch 50/100\n",
            "211/211 [==============================] - 4s 19ms/step - loss: 0.5434 - accuracy: 0.8355\n",
            "Epoch 51/100\n",
            "211/211 [==============================] - 4s 19ms/step - loss: 0.5411 - accuracy: 0.8360\n",
            "Epoch 52/100\n",
            "211/211 [==============================] - 4s 19ms/step - loss: 0.5382 - accuracy: 0.8385\n",
            "Epoch 53/100\n",
            "211/211 [==============================] - 4s 19ms/step - loss: 0.5386 - accuracy: 0.8373\n",
            "Epoch 54/100\n",
            "211/211 [==============================] - 4s 19ms/step - loss: 0.5371 - accuracy: 0.8385\n",
            "Epoch 55/100\n",
            "211/211 [==============================] - 4s 19ms/step - loss: 0.5353 - accuracy: 0.8376\n",
            "Epoch 56/100\n",
            "211/211 [==============================] - 4s 19ms/step - loss: 0.5432 - accuracy: 0.8375\n",
            "Epoch 57/100\n",
            "211/211 [==============================] - 4s 19ms/step - loss: 0.5561 - accuracy: 0.8323\n",
            "Epoch 58/100\n",
            "211/211 [==============================] - 4s 19ms/step - loss: 1.5028 - accuracy: 0.6419\n",
            "Epoch 59/100\n",
            "211/211 [==============================] - 4s 19ms/step - loss: 2.3642 - accuracy: 0.5036\n",
            "Epoch 60/100\n",
            "211/211 [==============================] - 4s 19ms/step - loss: 1.4002 - accuracy: 0.6470\n",
            "Epoch 61/100\n",
            "211/211 [==============================] - 4s 19ms/step - loss: 0.9706 - accuracy: 0.7398\n",
            "Epoch 62/100\n",
            "211/211 [==============================] - 4s 19ms/step - loss: 0.7441 - accuracy: 0.7969\n",
            "Epoch 63/100\n",
            "211/211 [==============================] - 4s 19ms/step - loss: 0.6437 - accuracy: 0.8236\n",
            "Epoch 64/100\n",
            "211/211 [==============================] - 4s 19ms/step - loss: 0.5951 - accuracy: 0.8342\n",
            "Epoch 65/100\n",
            "211/211 [==============================] - 4s 19ms/step - loss: 0.5633 - accuracy: 0.8391\n",
            "Epoch 66/100\n",
            "211/211 [==============================] - 4s 19ms/step - loss: 0.5617 - accuracy: 0.8341\n",
            "Epoch 67/100\n",
            "211/211 [==============================] - 4s 19ms/step - loss: 0.5539 - accuracy: 0.8387\n",
            "Epoch 68/100\n",
            "211/211 [==============================] - 4s 19ms/step - loss: 0.5466 - accuracy: 0.8406\n",
            "Epoch 69/100\n",
            "211/211 [==============================] - 4s 18ms/step - loss: 0.5431 - accuracy: 0.8396\n",
            "Epoch 70/100\n",
            "211/211 [==============================] - 4s 18ms/step - loss: 0.5398 - accuracy: 0.8404\n",
            "Epoch 71/100\n",
            "211/211 [==============================] - 4s 19ms/step - loss: 0.5425 - accuracy: 0.8354\n",
            "Epoch 72/100\n",
            "211/211 [==============================] - 4s 19ms/step - loss: 0.5390 - accuracy: 0.8373\n",
            "Epoch 73/100\n",
            "211/211 [==============================] - 4s 18ms/step - loss: 0.5390 - accuracy: 0.8373\n",
            "Epoch 74/100\n",
            "211/211 [==============================] - 4s 18ms/step - loss: 0.5462 - accuracy: 0.8348\n",
            "Epoch 75/100\n",
            "211/211 [==============================] - 4s 19ms/step - loss: 0.5441 - accuracy: 0.8382\n",
            "Epoch 76/100\n",
            "211/211 [==============================] - 4s 18ms/step - loss: 0.5683 - accuracy: 0.8381\n",
            "Epoch 77/100\n",
            "211/211 [==============================] - 4s 18ms/step - loss: 0.8263 - accuracy: 0.7707\n",
            "Epoch 78/100\n",
            "211/211 [==============================] - 4s 18ms/step - loss: 2.1739 - accuracy: 0.5203\n",
            "Epoch 79/100\n",
            "211/211 [==============================] - 4s 19ms/step - loss: 1.5447 - accuracy: 0.6269\n",
            "Epoch 80/100\n",
            "211/211 [==============================] - 4s 19ms/step - loss: 1.0115 - accuracy: 0.7358\n",
            "Epoch 81/100\n",
            "211/211 [==============================] - 4s 19ms/step - loss: 0.7752 - accuracy: 0.7871\n",
            "Epoch 82/100\n",
            "211/211 [==============================] - 4s 19ms/step - loss: 0.6477 - accuracy: 0.8172\n",
            "Epoch 83/100\n",
            "211/211 [==============================] - 4s 19ms/step - loss: 0.5961 - accuracy: 0.8317\n",
            "Epoch 84/100\n",
            "211/211 [==============================] - 4s 19ms/step - loss: 0.5719 - accuracy: 0.8372\n",
            "Epoch 85/100\n",
            "211/211 [==============================] - 4s 19ms/step - loss: 0.5633 - accuracy: 0.8370\n",
            "Epoch 86/100\n",
            "211/211 [==============================] - 4s 18ms/step - loss: 0.5566 - accuracy: 0.8369\n",
            "Epoch 87/100\n",
            "211/211 [==============================] - 4s 18ms/step - loss: 0.5596 - accuracy: 0.8336\n",
            "Epoch 88/100\n",
            "211/211 [==============================] - 4s 19ms/step - loss: 0.5486 - accuracy: 0.8346\n",
            "Epoch 89/100\n",
            "211/211 [==============================] - 4s 18ms/step - loss: 0.5415 - accuracy: 0.8416\n",
            "Epoch 90/100\n",
            "211/211 [==============================] - 4s 18ms/step - loss: 0.5501 - accuracy: 0.8369\n",
            "Epoch 91/100\n",
            "211/211 [==============================] - 4s 18ms/step - loss: 0.5511 - accuracy: 0.8393\n",
            "Epoch 92/100\n",
            "211/211 [==============================] - 4s 18ms/step - loss: 0.5460 - accuracy: 0.8390\n",
            "Epoch 93/100\n",
            "211/211 [==============================] - 4s 18ms/step - loss: 0.5498 - accuracy: 0.8385\n",
            "Epoch 94/100\n",
            "211/211 [==============================] - 4s 18ms/step - loss: 0.5537 - accuracy: 0.8372\n",
            "Epoch 95/100\n",
            "211/211 [==============================] - 4s 18ms/step - loss: 0.5809 - accuracy: 0.8326\n",
            "Epoch 96/100\n",
            "211/211 [==============================] - 4s 19ms/step - loss: 0.8756 - accuracy: 0.7643\n",
            "Epoch 97/100\n",
            "211/211 [==============================] - 4s 19ms/step - loss: 1.7955 - accuracy: 0.5927\n",
            "Epoch 98/100\n",
            "211/211 [==============================] - 4s 19ms/step - loss: 1.4385 - accuracy: 0.6532\n",
            "Epoch 99/100\n",
            "211/211 [==============================] - 4s 19ms/step - loss: 0.9559 - accuracy: 0.7456\n",
            "Epoch 100/100\n",
            "211/211 [==============================] - 4s 19ms/step - loss: 0.7451 - accuracy: 0.7943\n",
            "<tensorflow.python.keras.engine.sequential.Sequential object at 0x7f272a145490>\n"
          ],
          "name": "stdout"
        }
      ]
    },
    {
      "cell_type": "code",
      "metadata": {
        "id": "3YXGelKThoTT"
      },
      "source": [
        "import matplotlib.pyplot as plt\n",
        "\n",
        "\n",
        "def plot_graphs(history, string):\n",
        "  plt.plot(history.history[string])\n",
        "  plt.xlabel(\"Epochs\")\n",
        "  plt.ylabel(string)\n",
        "  plt.show()"
      ],
      "execution_count": null,
      "outputs": []
    },
    {
      "cell_type": "code",
      "metadata": {
        "id": "poeprYK8h-c7",
        "colab": {
          "base_uri": "https://localhost:8080/",
          "height": 279
        },
        "outputId": "ad694dc0-864a-4ffe-f69f-64f82ad06cba"
      },
      "source": [
        "plot_graphs(history, 'accuracy')\n"
      ],
      "execution_count": null,
      "outputs": [
        {
          "output_type": "display_data",
          "data": {
            "image/png": "[encoded data removed]",
            "text/plain": [
              "<Figure size 432x288 with 1 Axes>"
            ]
          },
          "metadata": {
            "tags": [],
            "needs_background": "light"
          }
        }
      ]
    },
    {
      "cell_type": "code",
      "metadata": {
        "id": "6Vc6PHgxa6Hm",
        "colab": {
          "base_uri": "https://localhost:8080/"
        },
        "outputId": "ebc10098-87e0-4db2-adc3-f91f5752a4fc"
      },
      "source": [
        "# seed_text = \"I've got a bad feeling about this\"\n",
        "seed_text = \"Last time I met her was last summer\"\n",
        "next_words = 150\n",
        "  \n",
        "for _ in range(next_words):\n",
        "\ttoken_list = tokenizer.texts_to_sequences([seed_text])[0]\n",
        "\ttoken_list = pad_sequences([token_list], maxlen=max_sequence_len-1, padding='pre')\n",
        "\tpredicted = model.predict_classes(token_list, verbose=0)\n",
        "\toutput_word = \"\"\n",
        "\tfor word, index in tokenizer.word_index.items():\n",
        "\t\tif index == predicted:\n",
        "\t\t\toutput_word = word\n",
        "\t\t\tbreak\n",
        "\tseed_text += \" \" + output_word\n",
        "print(seed_text)"
      ],
      "execution_count": null,
      "outputs": [
        {
          "output_type": "stream",
          "text": [
            "/usr/local/lib/python3.7/dist-packages/tensorflow/python/keras/engine/sequential.py:455: UserWarning: `model.predict_classes()` is deprecated and will be removed after 2021-01-01. Please use instead:* `np.argmax(model.predict(x), axis=-1)`,   if your model does multi-class classification   (e.g. if it uses a `softmax` last-layer activation).* `(model.predict(x) > 0.5).astype(\"int32\")`,   if your model does binary classification   (e.g. if it uses a `sigmoid` last-layer activation).\n",
            "  warnings.warn('`model.predict_classes()` is deprecated and '\n"
          ],
          "name": "stderr"
        },
        {
          "output_type": "stream",
          "text": [
            "Last time I met her was last summer it's true it's true it's true it's true have friends nor not thrown up in so long babe of us at just try to keep those secrets in before getting used the side high i'll cook and sew raised them whole right heard again now i've lived last night away out tonight last through the night fields in so long in hazel golden and it's true for said my you next to me yeah this you exactly or true i know know we're oh because so only oh i did it wrong or we're losing six shone up there and red he losing dreamed touch and my leg but role smoking handrolled cigarettes wings won’t he changing air all his red she stare won’t all city lights and broken black card bed teen full of life city i'd hell yes his animal anyway with by eve mistakes own means ground\n"
          ],
          "name": "stdout"
        }
      ]
    },
    {
      "cell_type": "code",
      "metadata": {
        "id": "z2bZKvLuul3z"
      },
      "source": [
        "Last time I met her was last summer \n",
        "it's true it's true \n",
        "it's true it's true \n",
        "have friends nor not thrown up \n",
        "in so long babe of us \n",
        "at just try to keep those secrets \n",
        "in before getting used the side high \n",
        "i'll cook and sew raised them \n",
        "whole right heard again \n",
        "now i've lived last night away \n",
        "out tonight last through the night fields \n",
        "in so long in hazel golden and it's true \n",
        "for said my you next to me yeah this you exactly or true \n",
        "i know know we're oh because so only oh i did it wrong \n",
        "or we're losing six shone up there and red he losing \n",
        "dreamed touch and my leg but role \n",
        "smoking handrolled cigarettes wings \n",
        "won’t he changing air all his red \n",
        "she stare won’t all city lights \n",
        "and broken black card bed teen \n",
        "full of life city i'd hell yes \n",
        "his animal anyway with by eve mistakes own means ground"
      ],
      "execution_count": null,
      "outputs": []
    }
  ]
}